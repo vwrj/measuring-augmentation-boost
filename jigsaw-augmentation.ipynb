{
 "cells": [
  {
   "cell_type": "code",
   "execution_count": 1,
   "metadata": {},
   "outputs": [],
   "source": [
    "# Use sample CIFAR10 image\n",
    "# Create a function that performs the jigsaw augmentation\n",
    "# Should do number of pieces"
   ]
  },
  {
   "cell_type": "code",
   "execution_count": 26,
   "metadata": {},
   "outputs": [],
   "source": [
    "import torch\n",
    "import torchvision\n",
    "import torchvision.transforms as transforms\n",
    "import pdb\n",
    "\n",
    "from einops import rearrange, reduce"
   ]
  },
  {
   "cell_type": "code",
   "execution_count": 3,
   "metadata": {},
   "outputs": [
    {
     "name": "stdout",
     "output_type": "stream",
     "text": [
      "Downloading https://www.cs.toronto.edu/~kriz/cifar-10-python.tar.gz to /scratch/vr1059/cifar10-torchvision/cifar-10-python.tar.gz\n"
     ]
    },
    {
     "data": {
      "application/vnd.jupyter.widget-view+json": {
       "model_id": "34988768d2fb4d3ca0c57720390da037",
       "version_major": 2,
       "version_minor": 0
      },
      "text/plain": [
       "HBox(children=(FloatProgress(value=1.0, bar_style='info', max=1.0), HTML(value='')))"
      ]
     },
     "metadata": {},
     "output_type": "display_data"
    },
    {
     "name": "stdout",
     "output_type": "stream",
     "text": [
      "Extracting /scratch/vr1059/cifar10-torchvision/cifar-10-python.tar.gz to /scratch/vr1059/cifar10-torchvision\n"
     ]
    }
   ],
   "source": [
    "transform = transforms.Compose([transforms.ToTensor()])\n",
    "trainset = torchvision.datasets.CIFAR10(root=\"/scratch/vr1059/cifar10-torchvision\", train=True, download=True, transform=transform)\n",
    "trainloader = torch.utils.data.DataLoader(trainset, batch_size=1)\n",
    "classes = ('plane', 'car', 'bird', 'cat', 'deer', 'dog', 'frog', 'horse', 'ship', 'truck')"
   ]
  },
  {
   "cell_type": "code",
   "execution_count": 4,
   "metadata": {},
   "outputs": [],
   "source": [
    "import matplotlib.pyplot as plt\n",
    "import numpy as np \n",
    "import math\n",
    "\n",
    "def imshow(img):\n",
    "    print(type(img))\n",
    "    npimg = img.numpy()\n",
    "    plt.imshow(np.transpose(npimg, (1,2,0)))\n",
    "    plt.show()"
   ]
  },
  {
   "cell_type": "code",
   "execution_count": 5,
   "metadata": {},
   "outputs": [],
   "source": [
    "# get some random training images\n",
    "dataiter = iter(trainloader)"
   ]
  },
  {
   "cell_type": "code",
   "execution_count": 9,
   "metadata": {},
   "outputs": [],
   "source": [
    "images, labels = dataiter.next()"
   ]
  },
  {
   "cell_type": "code",
   "execution_count": 10,
   "metadata": {},
   "outputs": [
    {
     "data": {
      "text/plain": [
       "'truck'"
      ]
     },
     "execution_count": 10,
     "metadata": {},
     "output_type": "execute_result"
    }
   ],
   "source": [
    "classes[labels[0]]"
   ]
  },
  {
   "cell_type": "code",
   "execution_count": 11,
   "metadata": {},
   "outputs": [
    {
     "name": "stdout",
     "output_type": "stream",
     "text": [
      "<class 'torch.Tensor'>\n"
     ]
    },
    {
     "data": {
      "image/png": "[encoded data removed]",
      "text/plain": [
       "<matplotlib.figure.Figure at 0x2b0cbaa274e0>"
      ]
     },
     "metadata": {
      "needs_background": "light"
     },
     "output_type": "display_data"
    }
   ],
   "source": [
    "imshow(images[0])"
   ]
  },
  {
   "cell_type": "code",
   "execution_count": 12,
   "metadata": {},
   "outputs": [
    {
     "data": {
      "text/plain": [
       "torch.Size([3, 32, 32])"
      ]
     },
     "execution_count": 12,
     "metadata": {},
     "output_type": "execute_result"
    }
   ],
   "source": [
    "images[0].shape"
   ]
  },
  {
   "cell_type": "code",
   "execution_count": 45,
   "metadata": {},
   "outputs": [],
   "source": [
    "def einops_jigsaw(img, size=2):\n",
    "    # create patches\n",
    "    chunk = img.shape[1] // size\n",
    "    img = img.unfold(1, chunk, chunk).unfold(2, chunk, chunk)\n",
    "    img = rearrange(img, 'c x1 x2 h w -> c (x1 x2) h w')\n",
    "    \n",
    "    # jigsaw permutation\n",
    "    perm = torch.randperm(size ** 2)\n",
    "    img = img[:, perm, :, :]\n",
    "    img = rearrange(img, 'c (b1 b2) h w -> c (b1 h) (b2 w)', b1=size)\n",
    "    return img"
   ]
  },
  {
   "cell_type": "code",
   "execution_count": 46,
   "metadata": {},
   "outputs": [],
   "source": [
    "boom = einops_jigsaw(images[0])"
   ]
  },
  {
   "cell_type": "code",
   "execution_count": 47,
   "metadata": {},
   "outputs": [
    {
     "name": "stdout",
     "output_type": "stream",
     "text": [
      "<class 'torch.Tensor'>\n"
     ]
    },
    {
     "data": {
      "image/png": "[encoded data removed]",
      "text/plain": [
       "<matplotlib.figure.Figure at 0x2b0cbb0ef320>"
      ]
     },
     "metadata": {
      "needs_background": "light"
     },
     "output_type": "display_data"
    }
   ],
   "source": [
    "imshow(boom)"
   ]
  },
  {
   "cell_type": "code",
   "execution_count": 16,
   "metadata": {},
   "outputs": [],
   "source": [
    "#img = img.unfold(0, size, stride).unfold(1, size, stride).contiguous().reshape(-1, 1, size, size)\n",
    "def improved_jigsaw(img, num_pieces=16):\n",
    "    piece_size = img.shape[1] // math.sqrt(num_pieces)\n",
    "    img = img.unfold(1, piece_size, piece_size).unfold(2, piece_size, piece_size).reshape(3, -1, piece_size, piece_size)\n",
    "    perm = torch.randperm(num_pieces)\n",
    "    img = img[:, perm, :, :]\n",
    "    print(img.shape)\n",
    "    return img"
   ]
  },
  {
   "cell_type": "code",
   "execution_count": 17,
   "metadata": {},
   "outputs": [
    {
     "ename": "TypeError",
     "evalue": "unfold(): argument 'size' (position 2) must be int, not float",
     "output_type": "error",
     "traceback": [
      "\u001b[0;31m---------------------------------------------------------------------------\u001b[0m",
      "\u001b[0;31mTypeError\u001b[0m                                 Traceback (most recent call last)",
      "\u001b[0;32m<ipython-input-17-8438499be33d>\u001b[0m in \u001b[0;36m<module>\u001b[0;34m\u001b[0m\n\u001b[0;32m----> 1\u001b[0;31m \u001b[0mimg\u001b[0m \u001b[0;34m=\u001b[0m \u001b[0mimproved_jigsaw\u001b[0m\u001b[0;34m(\u001b[0m\u001b[0mimages\u001b[0m\u001b[0;34m[\u001b[0m\u001b[0;36m0\u001b[0m\u001b[0;34m]\u001b[0m\u001b[0;34m,\u001b[0m \u001b[0mnum_pieces\u001b[0m\u001b[0;34m=\u001b[0m\u001b[0;36m4\u001b[0m\u001b[0;34m)\u001b[0m\u001b[0;34m\u001b[0m\u001b[0m\n\u001b[0m\u001b[1;32m      2\u001b[0m \u001b[0mprint\u001b[0m\u001b[0;34m(\u001b[0m\u001b[0mimg\u001b[0m\u001b[0;34m.\u001b[0m\u001b[0mshape\u001b[0m\u001b[0;34m)\u001b[0m\u001b[0;34m\u001b[0m\u001b[0m\n\u001b[1;32m      3\u001b[0m \u001b[0mimshow\u001b[0m\u001b[0;34m(\u001b[0m\u001b[0mimg\u001b[0m\u001b[0;34m[\u001b[0m\u001b[0;34m:\u001b[0m\u001b[0;34m,\u001b[0m \u001b[0;36m0\u001b[0m\u001b[0;34m,\u001b[0m \u001b[0;34m:\u001b[0m\u001b[0;34m,\u001b[0m \u001b[0;34m:\u001b[0m\u001b[0;34m]\u001b[0m\u001b[0;34m)\u001b[0m\u001b[0;34m\u001b[0m\u001b[0m\n\u001b[1;32m      4\u001b[0m \u001b[0mimshow\u001b[0m\u001b[0;34m(\u001b[0m\u001b[0mimg\u001b[0m\u001b[0;34m[\u001b[0m\u001b[0;34m:\u001b[0m\u001b[0;34m,\u001b[0m \u001b[0;36m1\u001b[0m\u001b[0;34m,\u001b[0m \u001b[0;34m:\u001b[0m\u001b[0;34m,\u001b[0m \u001b[0;34m:\u001b[0m\u001b[0;34m]\u001b[0m\u001b[0;34m)\u001b[0m\u001b[0;34m\u001b[0m\u001b[0m\n\u001b[1;32m      5\u001b[0m \u001b[0mimshow\u001b[0m\u001b[0;34m(\u001b[0m\u001b[0mimg\u001b[0m\u001b[0;34m[\u001b[0m\u001b[0;34m:\u001b[0m\u001b[0;34m,\u001b[0m \u001b[0;36m2\u001b[0m\u001b[0;34m,\u001b[0m \u001b[0;34m:\u001b[0m\u001b[0;34m,\u001b[0m \u001b[0;34m:\u001b[0m\u001b[0;34m]\u001b[0m\u001b[0;34m)\u001b[0m\u001b[0;34m\u001b[0m\u001b[0m\n",
      "\u001b[0;32m<ipython-input-16-82613c14106b>\u001b[0m in \u001b[0;36mimproved_jigsaw\u001b[0;34m(img, num_pieces)\u001b[0m\n\u001b[1;32m      2\u001b[0m \u001b[0;32mdef\u001b[0m \u001b[0mimproved_jigsaw\u001b[0m\u001b[0;34m(\u001b[0m\u001b[0mimg\u001b[0m\u001b[0;34m,\u001b[0m \u001b[0mnum_pieces\u001b[0m\u001b[0;34m=\u001b[0m\u001b[0;36m16\u001b[0m\u001b[0;34m)\u001b[0m\u001b[0;34m:\u001b[0m\u001b[0;34m\u001b[0m\u001b[0m\n\u001b[1;32m      3\u001b[0m     \u001b[0mpiece_size\u001b[0m \u001b[0;34m=\u001b[0m \u001b[0mimg\u001b[0m\u001b[0;34m.\u001b[0m\u001b[0mshape\u001b[0m\u001b[0;34m[\u001b[0m\u001b[0;36m1\u001b[0m\u001b[0;34m]\u001b[0m \u001b[0;34m//\u001b[0m \u001b[0mmath\u001b[0m\u001b[0;34m.\u001b[0m\u001b[0msqrt\u001b[0m\u001b[0;34m(\u001b[0m\u001b[0mnum_pieces\u001b[0m\u001b[0;34m)\u001b[0m\u001b[0;34m\u001b[0m\u001b[0m\n\u001b[0;32m----> 4\u001b[0;31m     \u001b[0mimg\u001b[0m \u001b[0;34m=\u001b[0m \u001b[0mimg\u001b[0m\u001b[0;34m.\u001b[0m\u001b[0munfold\u001b[0m\u001b[0;34m(\u001b[0m\u001b[0;36m1\u001b[0m\u001b[0;34m,\u001b[0m \u001b[0mpiece_size\u001b[0m\u001b[0;34m,\u001b[0m \u001b[0mpiece_size\u001b[0m\u001b[0;34m)\u001b[0m\u001b[0;34m.\u001b[0m\u001b[0munfold\u001b[0m\u001b[0;34m(\u001b[0m\u001b[0;36m2\u001b[0m\u001b[0;34m,\u001b[0m \u001b[0mpiece_size\u001b[0m\u001b[0;34m,\u001b[0m \u001b[0mpiece_size\u001b[0m\u001b[0;34m)\u001b[0m\u001b[0;34m.\u001b[0m\u001b[0mreshape\u001b[0m\u001b[0;34m(\u001b[0m\u001b[0;36m3\u001b[0m\u001b[0;34m,\u001b[0m \u001b[0;34m-\u001b[0m\u001b[0;36m1\u001b[0m\u001b[0;34m,\u001b[0m \u001b[0mpiece_size\u001b[0m\u001b[0;34m,\u001b[0m \u001b[0mpiece_size\u001b[0m\u001b[0;34m)\u001b[0m\u001b[0;34m\u001b[0m\u001b[0m\n\u001b[0m\u001b[1;32m      5\u001b[0m     \u001b[0mperm\u001b[0m \u001b[0;34m=\u001b[0m \u001b[0mtorch\u001b[0m\u001b[0;34m.\u001b[0m\u001b[0mrandperm\u001b[0m\u001b[0;34m(\u001b[0m\u001b[0mnum_pieces\u001b[0m\u001b[0;34m)\u001b[0m\u001b[0;34m\u001b[0m\u001b[0m\n\u001b[1;32m      6\u001b[0m     \u001b[0mimg\u001b[0m \u001b[0;34m=\u001b[0m \u001b[0mimg\u001b[0m\u001b[0;34m[\u001b[0m\u001b[0;34m:\u001b[0m\u001b[0;34m,\u001b[0m \u001b[0mperm\u001b[0m\u001b[0;34m,\u001b[0m \u001b[0;34m:\u001b[0m\u001b[0;34m,\u001b[0m \u001b[0;34m:\u001b[0m\u001b[0;34m]\u001b[0m\u001b[0;34m\u001b[0m\u001b[0m\n",
      "\u001b[0;31mTypeError\u001b[0m: unfold(): argument 'size' (position 2) must be int, not float"
     ]
    }
   ],
   "source": [
    "img = improved_jigsaw(images[0], num_pieces=4)\n",
    "print(img.shape)\n",
    "imshow(img[:, 0, :, :])\n",
    "imshow(img[:, 1, :, :])\n",
    "imshow(img[:, 2, :, :])\n",
    "imshow(img[:, 3, :, :])"
   ]
  },
  {
   "cell_type": "code",
   "execution_count": 110,
   "metadata": {},
   "outputs": [
    {
     "name": "stdout",
     "output_type": "stream",
     "text": [
      "torch.Size([3, 4, 2, 2])\n",
      "torch.Size([12, 2, 2])\n"
     ]
    },
    {
     "ename": "RuntimeError",
     "evalue": "Given output_size=(2, 2), kernel_size=(1, 1), dilation=(1, 1), padding=(0, 0), stride=(1, 1), expected size of input's dimension 2 to match the calculated number of sliding blocks 2 * 2 = 4, but got input.size(2)=2.",
     "output_type": "error",
     "traceback": [
      "\u001b[0;31m---------------------------------------------------------------------------\u001b[0m",
      "\u001b[0;31mRuntimeError\u001b[0m                              Traceback (most recent call last)",
      "\u001b[0;32m<ipython-input-110-aa9a799d0083>\u001b[0m in \u001b[0;36m<module>\u001b[0;34m\u001b[0m\n\u001b[1;32m      7\u001b[0m \u001b[0mv\u001b[0m \u001b[0;34m=\u001b[0m \u001b[0mu\u001b[0m\u001b[0;34m.\u001b[0m\u001b[0mreshape\u001b[0m\u001b[0;34m(\u001b[0m\u001b[0;34m-\u001b[0m\u001b[0;36m1\u001b[0m\u001b[0;34m,\u001b[0m \u001b[0;36m2\u001b[0m\u001b[0;34m,\u001b[0m \u001b[0;36m2\u001b[0m\u001b[0;34m)\u001b[0m\u001b[0;34m\u001b[0m\u001b[0;34m\u001b[0m\u001b[0m\n\u001b[1;32m      8\u001b[0m \u001b[0mprint\u001b[0m\u001b[0;34m(\u001b[0m\u001b[0mv\u001b[0m\u001b[0;34m.\u001b[0m\u001b[0mshape\u001b[0m\u001b[0;34m)\u001b[0m\u001b[0;34m\u001b[0m\u001b[0;34m\u001b[0m\u001b[0m\n\u001b[0;32m----> 9\u001b[0;31m \u001b[0mv\u001b[0m \u001b[0;34m=\u001b[0m \u001b[0mtorch\u001b[0m\u001b[0;34m.\u001b[0m\u001b[0mnn\u001b[0m\u001b[0;34m.\u001b[0m\u001b[0mfunctional\u001b[0m\u001b[0;34m.\u001b[0m\u001b[0mfold\u001b[0m\u001b[0;34m(\u001b[0m\u001b[0mv\u001b[0m\u001b[0;34m,\u001b[0m \u001b[0;34m(\u001b[0m\u001b[0;36m2\u001b[0m\u001b[0;34m,\u001b[0m\u001b[0;36m2\u001b[0m\u001b[0;34m)\u001b[0m\u001b[0;34m,\u001b[0m \u001b[0;36m1\u001b[0m\u001b[0;34m,\u001b[0m \u001b[0mdilation\u001b[0m\u001b[0;34m=\u001b[0m\u001b[0;36m1\u001b[0m\u001b[0;34m,\u001b[0m \u001b[0mpadding\u001b[0m\u001b[0;34m=\u001b[0m\u001b[0;36m0\u001b[0m\u001b[0;34m,\u001b[0m \u001b[0mstride\u001b[0m\u001b[0;34m=\u001b[0m\u001b[0;36m1\u001b[0m\u001b[0;34m)\u001b[0m\u001b[0;34m\u001b[0m\u001b[0;34m\u001b[0m\u001b[0m\n\u001b[0m",
      "\u001b[0;32m~/miniconda3/envs/summer2020/lib/python3.8/site-packages/torch/nn/functional.py\u001b[0m in \u001b[0;36mfold\u001b[0;34m(input, output_size, kernel_size, dilation, padding, stride)\u001b[0m\n\u001b[1;32m   3821\u001b[0m         \u001b[0massert_int_or_pair\u001b[0m\u001b[0;34m(\u001b[0m\u001b[0mstride\u001b[0m\u001b[0;34m,\u001b[0m \u001b[0;34m'stride'\u001b[0m\u001b[0;34m,\u001b[0m \u001b[0mmsg\u001b[0m\u001b[0;34m)\u001b[0m\u001b[0;34m\u001b[0m\u001b[0;34m\u001b[0m\u001b[0m\n\u001b[1;32m   3822\u001b[0m \u001b[0;34m\u001b[0m\u001b[0m\n\u001b[0;32m-> 3823\u001b[0;31m         return torch._C._nn.col2im(input, _pair(output_size), _pair(kernel_size),\n\u001b[0m\u001b[1;32m   3824\u001b[0m                                    _pair(dilation), _pair(padding), _pair(stride))\n\u001b[1;32m   3825\u001b[0m     \u001b[0;32melse\u001b[0m\u001b[0;34m:\u001b[0m\u001b[0;34m\u001b[0m\u001b[0;34m\u001b[0m\u001b[0m\n",
      "\u001b[0;31mRuntimeError\u001b[0m: Given output_size=(2, 2), kernel_size=(1, 1), dilation=(1, 1), padding=(0, 0), stride=(1, 1), expected size of input's dimension 2 to match the calculated number of sliding blocks 2 * 2 = 4, but got input.size(2)=2."
     ]
    }
   ],
   "source": [
    "# How to get back to original shape while preserving the blocks? I want to put them back together as tensors\n",
    "t = torch.arange(48).reshape(3, 4, 4)\n",
    "s = t.unfold(1, 2, 2).unfold(2, 2, 2).reshape(3, -1, 2, 2)\n",
    "print(s.shape)\n",
    "printm = torch.randperm(4)\n",
    "u = s[:, perm, :, :]\n",
    "v = u.reshape(-1, 2, 2)\n",
    "print(v.shape)\n",
    "v = torch.nn.functional.fold(v, (2,2), 1, dilation=1, padding=0, stride=1)"
   ]
  },
  {
   "cell_type": "code",
   "execution_count": 98,
   "metadata": {},
   "outputs": [
    {
     "data": {
      "text/plain": [
       "tensor([[[ 2,  3],\n",
       "         [ 6,  7]],\n",
       "\n",
       "        [[ 0,  1],\n",
       "         [ 4,  5]],\n",
       "\n",
       "        [[ 8,  9],\n",
       "         [12, 13]],\n",
       "\n",
       "        [[10, 11],\n",
       "         [14, 15]],\n",
       "\n",
       "        [[18, 19],\n",
       "         [22, 23]],\n",
       "\n",
       "        [[16, 17],\n",
       "         [20, 21]],\n",
       "\n",
       "        [[24, 25],\n",
       "         [28, 29]],\n",
       "\n",
       "        [[26, 27],\n",
       "         [30, 31]],\n",
       "\n",
       "        [[34, 35],\n",
       "         [38, 39]],\n",
       "\n",
       "        [[32, 33],\n",
       "         [36, 37]],\n",
       "\n",
       "        [[40, 41],\n",
       "         [44, 45]],\n",
       "\n",
       "        [[42, 43],\n",
       "         [46, 47]]])"
      ]
     },
     "execution_count": 98,
     "metadata": {},
     "output_type": "execute_result"
    }
   ],
   "source": [
    "v"
   ]
  },
  {
   "cell_type": "code",
   "execution_count": 99,
   "metadata": {},
   "outputs": [
    {
     "data": {
      "text/plain": [
       "tensor([[[[ 2,  3],\n",
       "          [ 6,  7]],\n",
       "\n",
       "         [[ 0,  1],\n",
       "          [ 4,  5]],\n",
       "\n",
       "         [[ 8,  9],\n",
       "          [12, 13]],\n",
       "\n",
       "         [[10, 11],\n",
       "          [14, 15]]],\n",
       "\n",
       "\n",
       "        [[[18, 19],\n",
       "          [22, 23]],\n",
       "\n",
       "         [[16, 17],\n",
       "          [20, 21]],\n",
       "\n",
       "         [[24, 25],\n",
       "          [28, 29]],\n",
       "\n",
       "         [[26, 27],\n",
       "          [30, 31]]],\n",
       "\n",
       "\n",
       "        [[[34, 35],\n",
       "          [38, 39]],\n",
       "\n",
       "         [[32, 33],\n",
       "          [36, 37]],\n",
       "\n",
       "         [[40, 41],\n",
       "          [44, 45]],\n",
       "\n",
       "         [[42, 43],\n",
       "          [46, 47]]]])"
      ]
     },
     "execution_count": 99,
     "metadata": {},
     "output_type": "execute_result"
    }
   ],
   "source": [
    "u"
   ]
  },
  {
   "cell_type": "code",
   "execution_count": 62,
   "metadata": {},
   "outputs": [],
   "source": [
    "# Assuming channel first\n",
    "# Assumptions - image is square, num_pieces is a perfect square\n",
    "def jigsaw(img, num_pieces=9):\n",
    "    print(type(img))\n",
    "    if math.isqrt(num_pieces) ** 2 != num_pieces:\n",
    "        print(\"Please use a perfect square\")\n",
    "    elif img.shape[-2] != img.shape[-1]:\n",
    "        print(\"Please use a square image\")\n",
    "    elif img.shape[-2] % math.isqrt(num_pieces) != 0:\n",
    "        print(\"Make sure the image size and number of pieces are compatible\")\n",
    "    print(\"Image and num_pieces are compatible\")\n",
    "    # Pixel size of one patch\n",
    "    piece_size = img.shape[1] // math.isqrt(num_pieces)\n",
    "    print(piece_size)\n",
    "    # List to store patches\n",
    "    pieces = []\n",
    "    # Extract patches - is there a faster way to do this?\n",
    "    for i in range(math.isqrt(num_pieces)):\n",
    "        for j in range(math.isqrt(num_pieces)):\n",
    "            pieces.append(img[:, piece_size*i:piece_size*(i+1), piece_size*j:piece_size*(j+1)])\n",
    "    # Shuffle\n",
    "    np.random.shuffle(pieces)\n",
    "    # Reassemble\n",
    "    new_img = np.zeros(img.shape)\n",
    "    idx = 0\n",
    "    for i in range(math.isqrt(num_pieces)):\n",
    "        for j in range(math.isqrt(num_pieces)):\n",
    "            new_img[:, piece_size*i:piece_size*(i+1), piece_size*j:piece_size*(j+1)] = pieces[idx]\n",
    "            idx += 1\n",
    "    return torch.Tensor(new_img)\n",
    "    \n",
    "    "
   ]
  },
  {
   "cell_type": "code",
   "execution_count": 71,
   "metadata": {},
   "outputs": [
    {
     "name": "stdout",
     "output_type": "stream",
     "text": [
      "<class 'torch.Tensor'>\n",
      "Image and num_pieces are compatible\n",
      "4\n"
     ]
    }
   ],
   "source": [
    "new_img = jigsaw(images[0], num_pieces=)"
   ]
  },
  {
   "cell_type": "code",
   "execution_count": 72,
   "metadata": {},
   "outputs": [
    {
     "name": "stdout",
     "output_type": "stream",
     "text": [
      "<class 'torch.Tensor'>\n"
     ]
    },
    {
     "data": {
      "image/png": "[encoded data removed]",
      "text/plain": [
       "<Figure size 432x288 with 1 Axes>"
      ]
     },
     "metadata": {
      "needs_background": "light"
     },
     "output_type": "display_data"
    },
    {
     "name": "stdout",
     "output_type": "stream",
     "text": [
      "<class 'torch.Tensor'>\n"
     ]
    },
    {
     "data": {
      "image/png": "[encoded data removed]",
      "text/plain": [
       "<Figure size 432x288 with 1 Axes>"
      ]
     },
     "metadata": {
      "needs_background": "light"
     },
     "output_type": "display_data"
    },
    {
     "data": {
      "text/plain": [
       "(None, None)"
      ]
     },
     "execution_count": 72,
     "metadata": {},
     "output_type": "execute_result"
    }
   ],
   "source": [
    "imshow(images[0]), imshow(new_img)"
   ]
  },
  {
   "cell_type": "code",
   "execution_count": null,
   "metadata": {},
   "outputs": [],
   "source": [
    "# Rewrite jigsaw like a functional transform\n",
    "# Two cases with square images and non-square images\n",
    "\n",
    "def jigsaw(img: torch.Tensor, height: int, width: int) -> torch.Tensor:\n",
    "    \"\"\"Perform jigsaw transformation on an image.\n",
    "    \n",
    "    Args:\n",
    "        img (Torch Tensor): Image to be adjusted. C x W x H \n",
    "        height (int): The number of horizontal pieces to divide the image into.\n",
    "        width (int): The number of vertical pieces to divide the image into.\n",
    "        \n",
    "    Returns:\n",
    "        Torch Tensor: Jigsaw transformed image.\n",
    "    \"\"\"\n",
    "    if isinstance(height, int):\n",
    "        if height <= 0:\n",
    "            raise ValueError(\"Height must be strictly positive.\")\n",
    "    else:\n",
    "        raise TypeError(\"Height must be a positive integer.\")\n",
    "        \n",
    "    if isinstance(width, int):\n",
    "        if width <= 0:\n",
    "            raise ValueError(\"Width must be strictly positive.\")\n",
    "    else:\n",
    "        raise TypeError(\"Width must be a positive integer.\")\n",
    "        \n",
    "    if not isinstance(img, torch.Tensor):\n",
    "        raise TypeError(\"Image must be a Torch Tensor.\")\n",
    "        \n",
    "    assert height * width <= img.shape[1] * img.shape[2]\n",
    "    \n",
    "    blank_img = torch.zeros(img.shape)\n",
    "    \n",
    "    \n",
    "    # Divide into grid\n",
    "    # Shuffle\n",
    "    # Reassemble\n",
    "            "
   ]
  }
 ],
 "metadata": {
  "kernelspec": {
   "display_name": "Python 3",
   "language": "python",
   "name": "python3"
  },
  "language_info": {
   "codemirror_mode": {
    "name": "ipython",
    "version": 3
   },
   "file_extension": ".py",
   "mimetype": "text/x-python",
   "name": "python",
   "nbconvert_exporter": "python",
   "pygments_lexer": "ipython3",
   "version": "3.6.3"
  }
 },
 "nbformat": 4,
 "nbformat_minor": 4
}
