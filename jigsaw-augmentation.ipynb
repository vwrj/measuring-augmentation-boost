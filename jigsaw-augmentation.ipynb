{
 "cells": [
  {
   "cell_type": "code",
   "execution_count": 1,
   "metadata": {},
   "outputs": [],
   "source": [
    "# Use sample CIFAR10 image\n",
    "# Create a function that performs the jigsaw augmentation\n",
    "# Should do number of pieces"
   ]
  },
  {
   "cell_type": "code",
   "execution_count": 8,
   "metadata": {},
   "outputs": [],
   "source": [
    "import torch\n",
    "import torchvision\n",
    "import torchvision.transforms as transforms"
   ]
  },
  {
   "cell_type": "code",
   "execution_count": 10,
   "metadata": {},
   "outputs": [
    {
     "name": "stdout",
     "output_type": "stream",
     "text": [
      "Files already downloaded and verified\n"
     ]
    }
   ],
   "source": [
    "transform = transforms.Compose([transforms.ToTensor()])\n",
    "trainset = torchvision.datasets.CIFAR10(root=\"../../Data/\", train=True, download=True, transform=transform)\n",
    "trainloader = torch.utils.data.DataLoader(trainset, batch_size=1)\n",
    "classes = ('plane', 'car', 'bird', 'cat', 'deer', 'dog', 'frog', 'horse', 'ship', 'truck')"
   ]
  },
  {
   "cell_type": "code",
   "execution_count": 64,
   "metadata": {},
   "outputs": [],
   "source": [
    "import matplotlib.pyplot as plt\n",
    "import numpy as np \n",
    "import math\n",
    "\n",
    "def imshow(img):\n",
    "    print(type(img))\n",
    "    npimg = img.numpy()\n",
    "    plt.imshow(np.transpose(npimg, (1,2,0)))\n",
    "    plt.show()"
   ]
  },
  {
   "cell_type": "code",
   "execution_count": 12,
   "metadata": {},
   "outputs": [],
   "source": [
    "# get some random training images\n",
    "dataiter = iter(trainloader)\n",
    "images, labels = dataiter.next()"
   ]
  },
  {
   "cell_type": "code",
   "execution_count": 16,
   "metadata": {},
   "outputs": [
    {
     "data": {
      "text/plain": [
       "'frog'"
      ]
     },
     "execution_count": 16,
     "metadata": {},
     "output_type": "execute_result"
    }
   ],
   "source": [
    "classes[labels[0]]"
   ]
  },
  {
   "cell_type": "code",
   "execution_count": 65,
   "metadata": {},
   "outputs": [
    {
     "name": "stdout",
     "output_type": "stream",
     "text": [
      "<class 'torch.Tensor'>\n"
     ]
    },
    {
     "data": {
      "image/png": "[encoded data removed]",
      "text/plain": [
       "<Figure size 432x288 with 1 Axes>"
      ]
     },
     "metadata": {
      "needs_background": "light"
     },
     "output_type": "display_data"
    }
   ],
   "source": [
    "imshow(images[0])"
   ]
  },
  {
   "cell_type": "code",
   "execution_count": 19,
   "metadata": {},
   "outputs": [
    {
     "data": {
      "text/plain": [
       "torch.Size([3, 32, 32])"
      ]
     },
     "execution_count": 19,
     "metadata": {},
     "output_type": "execute_result"
    }
   ],
   "source": [
    "images[0].shape"
   ]
  },
  {
   "cell_type": "code",
   "execution_count": 62,
   "metadata": {},
   "outputs": [],
   "source": [
    "# Assuming channel first\n",
    "# Assumptions - image is square, num_pieces is a perfect square\n",
    "def jigsaw(img, num_pieces=9):\n",
    "    print(type(img))\n",
    "    if math.isqrt(num_pieces) ** 2 != num_pieces:\n",
    "        print(\"Please use a perfect square\")\n",
    "    elif img.shape[-2] != img.shape[-1]:\n",
    "        print(\"Please use a square image\")\n",
    "    elif img.shape[-2] % math.isqrt(num_pieces) != 0:\n",
    "        print(\"Make sure the image size and number of pieces are compatible\")\n",
    "    print(\"Image and num_pieces are compatible\")\n",
    "    # Pixel size of one patch\n",
    "    piece_size = img.shape[1] // math.isqrt(num_pieces)\n",
    "    print(piece_size)\n",
    "    # List to store patches\n",
    "    pieces = []\n",
    "    # Extract patches - is there a faster way to do this?\n",
    "    for i in range(math.isqrt(num_pieces)):\n",
    "        for j in range(math.isqrt(num_pieces)):\n",
    "            pieces.append(img[:, piece_size*i:piece_size*(i+1), piece_size*j:piece_size*(j+1)])\n",
    "    # Shuffle\n",
    "    np.random.shuffle(pieces)\n",
    "    # Reassemble\n",
    "    new_img = np.zeros(img.shape)\n",
    "    idx = 0\n",
    "    for i in range(math.isqrt(num_pieces)):\n",
    "        for j in range(math.isqrt(num_pieces)):\n",
    "            new_img[:, piece_size*i:piece_size*(i+1), piece_size*j:piece_size*(j+1)] = pieces[idx]\n",
    "            idx += 1\n",
    "    return torch.Tensor(new_img)\n",
    "    \n",
    "    "
   ]
  },
  {
   "cell_type": "code",
   "execution_count": 71,
   "metadata": {},
   "outputs": [
    {
     "name": "stdout",
     "output_type": "stream",
     "text": [
      "<class 'torch.Tensor'>\n",
      "Image and num_pieces are compatible\n",
      "4\n"
     ]
    }
   ],
   "source": [
    "new_img = jigsaw(images[0], num_pieces=)"
   ]
  },
  {
   "cell_type": "code",
   "execution_count": 72,
   "metadata": {},
   "outputs": [
    {
     "name": "stdout",
     "output_type": "stream",
     "text": [
      "<class 'torch.Tensor'>\n"
     ]
    },
    {
     "data": {
      "image/png": "[encoded data removed]",
      "text/plain": [
       "<Figure size 432x288 with 1 Axes>"
      ]
     },
     "metadata": {
      "needs_background": "light"
     },
     "output_type": "display_data"
    },
    {
     "name": "stdout",
     "output_type": "stream",
     "text": [
      "<class 'torch.Tensor'>\n"
     ]
    },
    {
     "data": {
      "image/png": "[encoded data removed]",
      "text/plain": [
       "<Figure size 432x288 with 1 Axes>"
      ]
     },
     "metadata": {
      "needs_background": "light"
     },
     "output_type": "display_data"
    },
    {
     "data": {
      "text/plain": [
       "(None, None)"
      ]
     },
     "execution_count": 72,
     "metadata": {},
     "output_type": "execute_result"
    }
   ],
   "source": [
    "imshow(images[0]), imshow(new_img)"
   ]
  },
  {
   "cell_type": "code",
   "execution_count": 48,
   "metadata": {},
   "outputs": [
    {
     "data": {
      "text/plain": [
       "tensor([[[0.9608, 0.9373, 0.9176, 0.9059, 0.7647, 0.5882, 0.8157, 0.9804,\n",
       "          0.8902, 0.6392, 0.5686, 0.5608, 0.5490, 0.5333, 0.4745, 0.4471],\n",
       "         [0.8784, 0.7882, 0.7216, 0.7098, 0.7451, 0.6667, 0.7020, 0.9059,\n",
       "          0.8745, 0.6353, 0.5725, 0.5490, 0.5451, 0.5686, 0.5569, 0.5020],\n",
       "         [0.6510, 0.5725, 0.5843, 0.6157, 0.7216, 0.8471, 0.8314, 0.9255,\n",
       "          0.9255, 0.6510, 0.5333, 0.5255, 0.5098, 0.4980, 0.5373, 0.5922],\n",
       "         [0.4980, 0.5922, 0.6471, 0.5176, 0.5922, 0.7922, 0.9412, 0.9412,\n",
       "          0.8706, 0.6118, 0.4667, 0.4706, 0.4392, 0.3922, 0.3882, 0.5490],\n",
       "         [0.5843, 0.6745, 0.5765, 0.5020, 0.5529, 0.6784, 0.7922, 0.7451,\n",
       "          0.7765, 0.5961, 0.3922, 0.4275, 0.4667, 0.4745, 0.4235, 0.5333],\n",
       "         [0.5961, 0.6000, 0.5569, 0.5529, 0.5294, 0.5333, 0.5804, 0.5529,\n",
       "          0.5529, 0.5412, 0.4353, 0.4353, 0.4745, 0.5059, 0.5412, 0.7020],\n",
       "         [0.5725, 0.5843, 0.6000, 0.5843, 0.5647, 0.5647, 0.5686, 0.5608,\n",
       "          0.5059, 0.4824, 0.4863, 0.4431, 0.4235, 0.4431, 0.5804, 0.7804],\n",
       "         [0.5647, 0.5373, 0.5922, 0.6078, 0.5961, 0.5490, 0.4196, 0.3569,\n",
       "          0.3294, 0.4118, 0.5176, 0.4627, 0.3765, 0.4000, 0.6235, 0.7451],\n",
       "         [0.5725, 0.4941, 0.5529, 0.6118, 0.6000, 0.4510, 0.3020, 0.3098,\n",
       "          0.3647, 0.4941, 0.5216, 0.4667, 0.4431, 0.5490, 0.7333, 0.6039],\n",
       "         [0.5843, 0.5294, 0.5098, 0.5176, 0.5020, 0.4980, 0.5294, 0.5608,\n",
       "          0.5451, 0.5333, 0.4980, 0.4745, 0.5294, 0.7412, 0.8275, 0.5333],\n",
       "         [0.5020, 0.5922, 0.5961, 0.5294, 0.5451, 0.6078, 0.6314, 0.6039,\n",
       "          0.6039, 0.5608, 0.5098, 0.5176, 0.6706, 0.8431, 0.7294, 0.4588],\n",
       "         [0.4941, 0.5451, 0.6000, 0.5843, 0.5490, 0.5294, 0.5765, 0.5804,\n",
       "          0.5843, 0.5843, 0.5373, 0.5608, 0.7961, 0.8078, 0.4863, 0.2784],\n",
       "         [0.4980, 0.5412, 0.5882, 0.6039, 0.5843, 0.4863, 0.4941, 0.5529,\n",
       "          0.5686, 0.5765, 0.4980, 0.4471, 0.7294, 0.6784, 0.2196, 0.1294],\n",
       "         [0.5373, 0.5804, 0.5961, 0.5882, 0.6078, 0.5412, 0.4706, 0.5020,\n",
       "          0.5569, 0.5294, 0.3529, 0.1961, 0.5373, 0.6275, 0.2196, 0.2078],\n",
       "         [0.5608, 0.5451, 0.5412, 0.5608, 0.5725, 0.5294, 0.4588, 0.4392,\n",
       "          0.4784, 0.4078, 0.2275, 0.1333, 0.5137, 0.7216, 0.3804, 0.3255],\n",
       "         [0.6353, 0.5843, 0.5490, 0.5804, 0.6314, 0.5647, 0.4392, 0.4667,\n",
       "          0.5098, 0.4706, 0.3608, 0.4039, 0.6667, 0.8471, 0.5922, 0.4824]],\n",
       "\n",
       "        [[0.9294, 0.9137, 0.8784, 0.8510, 0.7098, 0.5373, 0.7569, 0.9451,\n",
       "          0.8471, 0.5569, 0.4980, 0.5059, 0.4824, 0.4549, 0.3725, 0.3216],\n",
       "         [0.8314, 0.7294, 0.6392, 0.6196, 0.6706, 0.6157, 0.6549, 0.8549,\n",
       "          0.8078, 0.5216, 0.4549, 0.4510, 0.4549, 0.4824, 0.4667, 0.4000],\n",
       "         [0.5725, 0.4667, 0.4549, 0.4863, 0.6157, 0.7647, 0.7765, 0.8667,\n",
       "          0.8314, 0.4902, 0.3333, 0.3176, 0.3255, 0.3373, 0.4118, 0.5020],\n",
       "         [0.3569, 0.4471, 0.4980, 0.3882, 0.4941, 0.7176, 0.8941, 0.8824,\n",
       "          0.7686, 0.4588, 0.2980, 0.2941, 0.2588, 0.2549, 0.2902, 0.4745],\n",
       "         [0.4157, 0.5137, 0.4235, 0.3686, 0.4431, 0.5882, 0.7176, 0.6706,\n",
       "          0.6863, 0.4863, 0.2824, 0.3176, 0.3451, 0.3608, 0.3216, 0.4667],\n",
       "         [0.4118, 0.4314, 0.4000, 0.4000, 0.3961, 0.3961, 0.4314, 0.4157,\n",
       "          0.4353, 0.4431, 0.3922, 0.4353, 0.4627, 0.4549, 0.4549, 0.6353],\n",
       "         [0.3961, 0.4157, 0.4314, 0.4235, 0.4078, 0.4118, 0.4078, 0.4000,\n",
       "          0.3765, 0.4039, 0.4941, 0.5294, 0.5216, 0.4784, 0.5333, 0.7216],\n",
       "         [0.4000, 0.3686, 0.4196, 0.4353, 0.4275, 0.3961, 0.2980, 0.2353,\n",
       "          0.2392, 0.3882, 0.5569, 0.5529, 0.4745, 0.4431, 0.5843, 0.6824],\n",
       "         [0.4157, 0.3216, 0.3804, 0.4392, 0.4275, 0.2902, 0.1686, 0.1961,\n",
       "          0.2863, 0.4588, 0.5255, 0.4549, 0.3882, 0.4745, 0.6471, 0.5176],\n",
       "         [0.4275, 0.3569, 0.3333, 0.3451, 0.3294, 0.3255, 0.3608, 0.4118,\n",
       "          0.4235, 0.4392, 0.4118, 0.3608, 0.4000, 0.6235, 0.7098, 0.4196],\n",
       "         [0.3412, 0.4235, 0.4157, 0.3529, 0.3725, 0.4314, 0.4431, 0.4196,\n",
       "          0.4392, 0.4118, 0.3647, 0.3529, 0.5137, 0.7176, 0.6078, 0.3373],\n",
       "         [0.3216, 0.3686, 0.4235, 0.4078, 0.3725, 0.3569, 0.4039, 0.4118,\n",
       "          0.4235, 0.4275, 0.3961, 0.4196, 0.6549, 0.6784, 0.3647, 0.1882],\n",
       "         [0.3176, 0.3451, 0.3922, 0.4078, 0.3961, 0.3059, 0.3333, 0.3961,\n",
       "          0.4196, 0.4392, 0.3961, 0.3412, 0.6078, 0.5647, 0.1137, 0.0745],\n",
       "         [0.3529, 0.4000, 0.4157, 0.4039, 0.4314, 0.3686, 0.2980, 0.3294,\n",
       "          0.4000, 0.4039, 0.2706, 0.0941, 0.4118, 0.5216, 0.1216, 0.1333],\n",
       "         [0.3725, 0.3882, 0.3843, 0.3765, 0.3647, 0.3294, 0.3137, 0.2824,\n",
       "          0.3176, 0.2627, 0.1216, 0.0196, 0.3686, 0.5804, 0.2431, 0.2078],\n",
       "         [0.4863, 0.4549, 0.4078, 0.4039, 0.4118, 0.3725, 0.3529, 0.3569,\n",
       "          0.3765, 0.3412, 0.2627, 0.3059, 0.5490, 0.7216, 0.4627, 0.3608]],\n",
       "\n",
       "        [[0.8863, 0.8431, 0.7882, 0.7529, 0.5961, 0.3922, 0.6039, 0.8471,\n",
       "          0.6784, 0.3059, 0.2353, 0.2431, 0.2157, 0.1804, 0.1176, 0.1569],\n",
       "         [0.7647, 0.6510, 0.5412, 0.5020, 0.5333, 0.4118, 0.4118, 0.7098,\n",
       "          0.6314, 0.2784, 0.1686, 0.1333, 0.1294, 0.1490, 0.1373, 0.1608],\n",
       "         [0.4510, 0.3333, 0.3098, 0.3255, 0.4314, 0.5529, 0.5961, 0.7725,\n",
       "          0.6902, 0.2471, 0.0627, 0.0510, 0.0510, 0.0627, 0.1059, 0.2118],\n",
       "         [0.1882, 0.2471, 0.2902, 0.1961, 0.3098, 0.5569, 0.7961, 0.8235,\n",
       "          0.6627, 0.2510, 0.0471, 0.0627, 0.0549, 0.0588, 0.0745, 0.2118],\n",
       "         [0.2314, 0.3059, 0.2118, 0.1765, 0.2627, 0.4392, 0.6275, 0.5765,\n",
       "          0.5725, 0.3373, 0.1020, 0.1333, 0.1686, 0.1961, 0.1412, 0.1961],\n",
       "         [0.2196, 0.2275, 0.2000, 0.2118, 0.2157, 0.2353, 0.2902, 0.2549,\n",
       "          0.2667, 0.2784, 0.1451, 0.1216, 0.1373, 0.1529, 0.1765, 0.3255],\n",
       "         [0.2039, 0.2235, 0.2392, 0.2392, 0.2314, 0.2314, 0.2314, 0.2353,\n",
       "          0.1882, 0.1529, 0.1176, 0.0549, 0.0314, 0.0392, 0.1725, 0.4000],\n",
       "         [0.2196, 0.1843, 0.2392, 0.2549, 0.2471, 0.2157, 0.1490, 0.1333,\n",
       "          0.0902, 0.0980, 0.1333, 0.0784, 0.0157, 0.0353, 0.2471, 0.3882],\n",
       "         [0.2510, 0.1569, 0.2039, 0.2588, 0.2392, 0.1137, 0.0549, 0.0980,\n",
       "          0.1294, 0.1843, 0.1529, 0.1216, 0.0941, 0.1647, 0.3569, 0.2941],\n",
       "         [0.2784, 0.2000, 0.1686, 0.1686, 0.1451, 0.1412, 0.2039, 0.2588,\n",
       "          0.2431, 0.2039, 0.1529, 0.1529, 0.1725, 0.3412, 0.4471, 0.2275],\n",
       "         [0.2039, 0.2745, 0.2549, 0.1882, 0.1961, 0.2471, 0.2549, 0.2471,\n",
       "          0.2627, 0.2118, 0.1725, 0.1804, 0.2745, 0.4157, 0.3569, 0.1882],\n",
       "         [0.2000, 0.2353, 0.2706, 0.2471, 0.2078, 0.1804, 0.2235, 0.2314,\n",
       "          0.2431, 0.2471, 0.2118, 0.2235, 0.4000, 0.4118, 0.1922, 0.1020],\n",
       "         [0.2000, 0.2039, 0.2353, 0.2549, 0.2353, 0.1412, 0.1608, 0.2157,\n",
       "          0.2392, 0.2667, 0.2314, 0.1804, 0.3843, 0.3412, 0.0353, 0.0353],\n",
       "         [0.2118, 0.2275, 0.2353, 0.2392, 0.2510, 0.1804, 0.1294, 0.1529,\n",
       "          0.2275, 0.2431, 0.1569, 0.0431, 0.2353, 0.2745, 0.0275, 0.0784],\n",
       "         [0.2275, 0.2353, 0.2353, 0.2196, 0.1686, 0.1294, 0.1490, 0.1137,\n",
       "          0.1529, 0.1176, 0.0431, 0.0000, 0.2235, 0.3686, 0.1333, 0.1333],\n",
       "         [0.3647, 0.3569, 0.3255, 0.3020, 0.2706, 0.2157, 0.2314, 0.2275,\n",
       "          0.2549, 0.2314, 0.1804, 0.2235, 0.4078, 0.5490, 0.3294, 0.2824]]])"
      ]
     },
     "execution_count": 48,
     "metadata": {},
     "output_type": "execute_result"
    }
   ],
   "source": [
    "pieces[0]"
   ]
  },
  {
   "cell_type": "code",
   "execution_count": null,
   "metadata": {},
   "outputs": [],
   "source": []
  }
 ],
 "metadata": {
  "kernelspec": {
   "display_name": "Python 3",
   "language": "python",
   "name": "python3"
  },
  "language_info": {
   "codemirror_mode": {
    "name": "ipython",
    "version": 3
   },
   "file_extension": ".py",
   "mimetype": "text/x-python",
   "name": "python",
   "nbconvert_exporter": "python",
   "pygments_lexer": "ipython3",
   "version": "3.8.3"
  }
 },
 "nbformat": 4,
 "nbformat_minor": 4
}
